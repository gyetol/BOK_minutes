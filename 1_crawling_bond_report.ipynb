{
 "cells": [
  {
   "cell_type": "markdown",
   "metadata": {},
   "source": [
    "## 채권분석 리포트 pdf로 다운로드"
   ]
  },
  {
   "cell_type": "code",
   "execution_count": 1,
   "metadata": {},
   "outputs": [],
   "source": [
    "from requests import get"
   ]
  },
  {
   "cell_type": "code",
   "execution_count": 2,
   "metadata": {},
   "outputs": [],
   "source": [
    "import requests\n",
    "from bs4 import BeautifulSoup"
   ]
  },
  {
   "cell_type": "code",
   "execution_count": 3,
   "metadata": {},
   "outputs": [],
   "source": [
    "#pdf 다운로드 함수\n",
    "def download_pdf(url,file_name):\n",
    "    with open(file_name,\"wb\") as file:\n",
    "        response = get(url)\n",
    "        file.write(response.content)"
   ]
  },
  {
   "cell_type": "code",
   "execution_count": 4,
   "metadata": {},
   "outputs": [],
   "source": [
    "#파일이름에서 특수문자를 제거해주자\n",
    "import re"
   ]
  },
  {
   "cell_type": "code",
   "execution_count": 5,
   "metadata": {},
   "outputs": [],
   "source": [
    "pdf_urls =[]\n",
    "pdf_dates=[]\n",
    "pdf_titles=[]"
   ]
  },
  {
   "cell_type": "code",
   "execution_count": 6,
   "metadata": {
    "scrolled": true
   },
   "outputs": [
    {
     "name": "stdout",
     "output_type": "stream",
     "text": [
      "3873\n",
      "3873\n",
      "3873\n"
     ]
    }
   ],
   "source": [
    "for i in range(1,131):\n",
    "    url = \"https://finance.naver.com/research/debenture_list.nhn?&page={}\".format(i)\n",
    "    response = requests.get(url)\n",
    "    soup = BeautifulSoup(response.text, \"html.parser\")\n",
    "    url_results = soup.select(\"table.type_1 tr td.file a\")\n",
    "    date_results = soup.select(\"table.type_1 tr td.date\")\n",
    "    title_results = soup.select(\"table.type_1 tr td a\")\n",
    "    for i in range(len(url_results)):\n",
    "        pdf_urls.append(url_results[i][\"href\"])\n",
    "    for i in range(len(date_results)):\n",
    "        if i%2 == 0:\n",
    "             pdf_dates.append(date_results[i].text)\n",
    "    for i in range(len(title_results)):\n",
    "        if i%2==0:\n",
    "            filename = title_results[i].text\n",
    "            filename = re.sub(\"[\\/:*?\\\"<>|]\",\"\",filename)\n",
    "            pdf_titles.append(filename)\n",
    "print(len(pdf_urls))\n",
    "print(len(pdf_dates))\n",
    "print(len(pdf_titles))"
   ]
  },
  {
   "cell_type": "code",
   "execution_count": 7,
   "metadata": {
    "scrolled": false
   },
   "outputs": [],
   "source": [
    "for i in range(len(pdf_urls)):\n",
    "    download_pdf(pdf_urls[i],\"D:/JO/asiaeconomy/kdigital/hong/project/bonds/{}_{}.pdf\".format(pdf_dates[i],pdf_titles[i]))"
   ]
  },
  {
   "cell_type": "code",
   "execution_count": null,
   "metadata": {},
   "outputs": [],
   "source": []
  }
 ],
 "metadata": {
  "kernelspec": {
   "display_name": "study(python3.6)",
   "language": "python",
   "name": "study"
  },
  "language_info": {
   "codemirror_mode": {
    "name": "ipython",
    "version": 3
   },
   "file_extension": ".py",
   "mimetype": "text/x-python",
   "name": "python",
   "nbconvert_exporter": "python",
   "pygments_lexer": "ipython3",
   "version": "3.6.12"
  }
 },
 "nbformat": 4,
 "nbformat_minor": 4
}
