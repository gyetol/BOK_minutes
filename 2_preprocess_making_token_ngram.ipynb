{
 "cells": [
  {
   "cell_type": "markdown",
   "metadata": {},
   "source": [
    "# 토큰화 및 N-gram화"
   ]
  },
  {
   "cell_type": "markdown",
   "metadata": {},
   "source": [
    "1. 채권분석리포트"
   ]
  },
  {
   "cell_type": "code",
   "execution_count": null,
   "metadata": {},
   "outputs": [],
   "source": [
    "import pandas as pd\n",
    "df=pd.read_csv(r\"C:\\Users\\HanBi\\Desktop\\2021\\project1\\crawling\\채권분석리포트전처리.csv\")\n",
    "\n",
    "from ekonlpy.sentiment import MPCK\n",
    "mpck = MPCK()\n",
    "\n",
    "def make_ngram(df):\n",
    "    try:\n",
    "        tokens=mpck.tokenize(df['content'])\n",
    "        ngrams=mpck.ngramize(tokens)\n",
    "        tokens_text=\",\".join(tokens)\n",
    "        ngrams_text=\",\".join(ngrams)\n",
    "        total_text=tokens_text+\",\"+ngrams_text\n",
    "    except Exception as e:\n",
    "        print(e)\n",
    "        total_text=\"\"\n",
    "    return total_text\n",
    "\n",
    "df['ngrams']=df.apply(make_ngram,axis=1)\n",
    "df.to_csv(r\"C:\\Users\\HanBi\\Desktop\\2021\\project1\\crawling\\total채권분석리포트.csv\",index=False)"
   ]
  },
  {
   "cell_type": "markdown",
   "metadata": {},
   "source": [
    "2. 네이버뉴스"
   ]
  },
  {
   "cell_type": "code",
   "execution_count": null,
   "metadata": {},
   "outputs": [],
   "source": [
    "import pandas as pd\n",
    "df=pd.read_csv(r\"C:\\Users\\HanBi\\Downloads\\뉴스전처리.csv\",encoding='utf-8')\n",
    "\n",
    "from ekonlpy.sentiment import MPCK\n",
    "mpck = MPCK()\n",
    "\n",
    "df['ngrams']=df.apply(make_ngram,axis=1)"
   ]
  }
 ],
 "metadata": {
  "kernelspec": {
   "display_name": "Python 3",
   "language": "python",
   "name": "python3"
  },
  "language_info": {
   "codemirror_mode": {
    "name": "ipython",
    "version": 3
   },
   "file_extension": ".py",
   "mimetype": "text/x-python",
   "name": "python",
   "nbconvert_exporter": "python",
   "pygments_lexer": "ipython3",
   "version": "3.7.6"
  }
 },
 "nbformat": 4,
 "nbformat_minor": 4
}
