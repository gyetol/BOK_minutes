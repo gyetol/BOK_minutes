{
 "cells": [
  {
   "cell_type": "markdown",
   "metadata": {},
   "source": [
    "# 데이터 취합"
   ]
  },
  {
   "cell_type": "markdown",
   "metadata": {},
   "source": [
    "1. 네이버뉴스, 채권분석리포트, 금통위의사록 한 파일로 합치기 (columns:date/title/content/ngram)\n",
    "2. date를 기준으로 콜금리파일과 merge"
   ]
  },
  {
   "cell_type": "code",
   "execution_count": null,
   "metadata": {},
   "outputs": [],
   "source": [
    "#네이버뉴스\n",
    "df=pd.read_csv(r\"C:\\Users\\HanBi\\Desktop\\2021\\project1\\crawling\\0108네이버뉴스.csv\")\n",
    "#채권분석리포트\n",
    "df1=pd.read_csv(r\"C:\\Users\\HanBi\\Desktop\\2021\\project1\\crawling\\total채권분석리포트.csv\")\n",
    "#금통위 의사록\n",
    "df2=pd.read_csv(r\"C:\\Users\\HanBi\\Desktop\\2021\\project1\\crawling\\minutes_data_save.csv\")\n",
    "total_df=pd.concat([df,df1,df2], axis=0)\n",
    "\n",
    "#날짜로 재정렬\n",
    "total_df1=total_df.sort_values(by=['date'], axis=0)\n",
    "\n",
    "#콜금리\n",
    "df_call=pd.read_csv(r\"C:\\Users\\HanBi\\Desktop\\2021\\project1\\crawling\\콜금리데이터프레임.csv\")\n",
    "m_df=pd.merge(total_df1, df_call, on=\"date\", how='left')\n",
    "\n",
    "m_df=m_df.drop(['callrate','한달전 date', '한달전 callrate','Unnamed: 0'],axis=1)\n",
    "m_df=m_df.dropna(axis=0)\n",
    "m_df=m_df.drop_duplicates()\n",
    "\n",
    "\n",
    "m_df.to_csv(r\"C:\\Users\\HanBi\\Desktop\\2021\\project1\\crawling\\final0108.csv\", encoding='utf-8', index=False)"
   ]
  }
 ],
 "metadata": {
  "kernelspec": {
   "display_name": "Python 3",
   "language": "python",
   "name": "python3"
  },
  "language_info": {
   "codemirror_mode": {
    "name": "ipython",
    "version": 3
   },
   "file_extension": ".py",
   "mimetype": "text/x-python",
   "name": "python",
   "nbconvert_exporter": "python",
   "pygments_lexer": "ipython3",
   "version": "3.7.6"
  }
 },
 "nbformat": 4,
 "nbformat_minor": 4
}
