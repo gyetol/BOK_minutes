{
 "cells": [
  {
   "cell_type": "markdown",
   "metadata": {},
   "source": [
    "# 금통위 의사록 어조 분석"
   ]
  },
  {
   "cell_type": "markdown",
   "metadata": {},
   "source": [
    "1. 어조록에서 금리상승 및 하락 문장 추출\n",
    "    -up_count : 금리상승 단어 등장 횟수 / down_count : 금리하락 단어 등장 횟수\n",
    "    -pos_count : 금리상승 문장 등장 횟수 / neg_count : 금리하락 문장 등장 횟수"
   ]
  },
  {
   "cell_type": "code",
   "execution_count": null,
   "metadata": {},
   "outputs": [],
   "source": [
    "import pandas as pd\n",
    "df_minites = pd.read_csv(r\"C:\\Users\\HanBi\\Desktop\\2021\\project1\\crawling\\minutes_data_save.csv\")\n",
    "df_minites=df_minites.drop(\"Unnamed: 0\",axis=1)\n",
    "\n",
    "from ekonlpy.sentiment import MPCK\n",
    "mpck = MPCK()\n",
    "\n",
    "def make_ngram(sen):\n",
    "    tokens=mpck.tokenize(sen)\n",
    "    ngrams=mpck.ngramize(tokens)\n",
    "    total_list=tokens+ngrams\n",
    "    return total_list\n",
    "\n",
    "df_Pos=pd.read_csv(r\"C:\\Users\\HanBi\\Desktop\\2021\\project1\\crawling\\긍정사전.csv\")\n",
    "df_Neg=pd.read_csv(r\"C:\\Users\\HanBi\\Desktop\\2021\\project1\\crawling\\부정사전.csv\")\n",
    "\n",
    "Pos_list=df_Pos['ngram'].to_list()\n",
    "Neg_list=df_Neg['ngram'].to_list()\n",
    "\n",
    "#df_minites=df_minites.drop(['up_count','down_count'],axis=1)\n",
    "\n",
    "df_minites['pos_count']=np.nan\n",
    "df_minites['neg_count']=np.nan\n",
    "\n",
    "for i in range(len(df_minites)):\n",
    "    #의사록 어조\n",
    "    pos_count=0\n",
    "    neg_count=0\n",
    "    sentences=df_minites['content'][i].split(\"@@@\")\n",
    "    for sentence in sentences:\n",
    "        #문장 어조 \n",
    "        up_count=0\n",
    "        down_count=0\n",
    "        ngram_list=make_ngram(sentence)\n",
    "        for item in ngram_list:\n",
    "            if item in Pos_list:\n",
    "                up_count=up_count+1\n",
    "            elif item in Neg_list:\n",
    "                down_count=down_count+1\n",
    "        try:\n",
    "            #print(up_count, down_count)\n",
    "            sentence_tone = (up_count-down_count)/(up_count+down_count)\n",
    "        except Exception as e:\n",
    "            #print(e)\n",
    "            sentence_tone=0\n",
    "        if sentence_tone >0:\n",
    "            pos_count=pos_count+1\n",
    "        elif sentence_tone<0:\n",
    "            neg_count=neg_count+1\n",
    "    df_minites.loc[i, ['pos_count']]=pos_count\n",
    "    df_minites.loc[i, ['neg_count']]=neg_count\n",
    "    print(i)\n",
    "\n",
    "df_minites.to_csv(r\"C:\\Users\\HanBi\\Desktop\\2021\\project1\\crawling\\의사록1.csv\")"
   ]
  },
  {
   "cell_type": "markdown",
   "metadata": {},
   "source": [
    "2. 의사록별 어조 및 라벨링하기"
   ]
  },
  {
   "cell_type": "code",
   "execution_count": null,
   "metadata": {},
   "outputs": [],
   "source": [
    "import pandas as pd\n",
    "\n",
    "df=pd.read_csv(r\"C:\\Users\\HanBi\\Desktop\\2021\\project1\\crawling\\의사록1.csv\")\n",
    "\n",
    "df['TONE_doc']=(df['pos_count']-df['neg_count'])/(df['pos_count']+df['neg_count'])\n",
    "\n",
    "def get_label(df):\n",
    "    if df['TONE_doc'] > 0:\n",
    "        return \"hawk\"\n",
    "    elif df['TONE_doc'] < 0:\n",
    "        return \"dove\"\n",
    "    \n",
    "df['TONE_Doc_Label']=df.apply(get_label,axis=1)\n",
    "\n",
    "\n",
    "df.to_csv(r\"C:\\Users\\HanBi\\Desktop\\2021\\project1\\crawling\\최종의사록어조.csv\", encoding='utf-8', index=False)\n"
   ]
  },
  {
   "cell_type": "markdown",
   "metadata": {},
   "source": [
    "3. 상관계수 구하기(기준금리-의사록tone)"
   ]
  },
  {
   "cell_type": "code",
   "execution_count": null,
   "metadata": {},
   "outputs": [],
   "source": [
    "dfdf = pd.read_csv(r'C:\\Users\\kyt50\\anaconda3\\kdigital\\project\\최종의사록어조.csv', encoding='utf-8')\n",
    "dfdf1 = pd.read_csv(r'C:\\Users\\kyt50\\anaconda3\\kdigital\\project\\기준금리.csv', encoding='utf-8')\n",
    "subset = dfdf[['date', 'TONE_doc']]               #dfdf데이터프레임에서 날짜와 톤만 추출하는 데이터프레임 만들기\n",
    "cor_df = pd.merge(dfdf1, subset, how='inner', on='date') # date를 기준으로 inner조인하여 머지하기\n",
    "import scipy.stats as stats                       #상관계수 구하기\n",
    "corr = stats.pearsonr(cor_df.TONE_doc ,cor_df.standardrate)\n",
    "corr"
   ]
  }
 ],
 "metadata": {
  "kernelspec": {
   "display_name": "Python 3",
   "language": "python",
   "name": "python3"
  },
  "language_info": {
   "codemirror_mode": {
    "name": "ipython",
    "version": 3
   },
   "file_extension": ".py",
   "mimetype": "text/x-python",
   "name": "python",
   "nbconvert_exporter": "python",
   "pygments_lexer": "ipython3",
   "version": "3.7.6"
  }
 },
 "nbformat": 4,
 "nbformat_minor": 4
}
