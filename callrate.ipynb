{
 "cells": [
  {
   "cell_type": "markdown",
   "metadata": {},
   "source": [
    "# 콜금리 크롤링"
   ]
  },
  {
   "cell_type": "code",
   "execution_count": null,
   "metadata": {},
   "outputs": [],
   "source": [
    "from bs4 import BeautifulSoup\n",
    "\n",
    "result = []\n",
    "total = []\n",
    "for n in range(1,500):\n",
    "    url = \"https://finance.naver.com/marketindex/interestDailyQuote.nhn?marketindexCd=IRR_CALL&page=\"+str(n)\n",
    "    response = requests.get(url)\n",
    "    soup = BeautifulSoup(response.text, 'html.parser')\n",
    "    tr_list = soup.select(\"tbody tr\")\n",
    "\n",
    "\n",
    "\n",
    "    for tr in tr_list:\n",
    "        result={}\n",
    "        result['date'] = tr.select_one(\"td.date\").text.strip()\n",
    "    \n",
    "        tdn = tr.select(\"td.num\")\n",
    "        result['callrate'] = tdn[0].text\n",
    "    \n",
    "        total.append(result)\n",
    "\n",
    "\n",
    "    \n",
    "    \n"
   ]
  },
  {
   "cell_type": "markdown",
   "metadata": {},
   "source": [
    "# 콜금리 전처리"
   ]
  },
  {
   "cell_type": "code",
   "execution_count": null,
   "metadata": {},
   "outputs": [],
   "source": [
    "import pandas as pd\n",
    "from pandas import DataFrame as df\n",
    "\n",
    "\n",
    "total2 = total[2:3472] #df1만들기\n",
    "df1 = df(total2)\n",
    "\n",
    "\n",
    "total3 = total[23:3493] #df2 만들기\n",
    "df2 = df(total3)\n",
    "\n",
    "\n",
    "\n",
    "\n",
    "\n",
    "newcols = {\n",
    "    'date': '한달전 date', \n",
    "    'callrate': '한달전 callrate', \n",
    "}\n",
    "\n",
    "\n",
    "df2.rename(columns=newcols, inplace=True)  #df1컬럼네임 바꾸기\n",
    "\n",
    "\n",
    "df3=pd.concat([df1, df2], axis=1)\n",
    "                                          #df1과 df2 합쳐서 새로운 df3만들기\n",
    "\n",
    "def get_label(df):                         # labelig 추가\n",
    "    if df['callrate'] > df['한달전 callrate']:\n",
    "        return \"up\"\n",
    "    elif df['callrate'] < df['한달전 callrate']:\n",
    "        return \"down\"\n",
    "    else:\n",
    "        return \"middle\"\n",
    "df3['labeling']=df3.apply(get_label,axis=1)\n",
    "\n",
    "df3\n",
    "\n"
   ]
  },
  {
   "cell_type": "code",
   "execution_count": null,
   "metadata": {},
   "outputs": [],
   "source": []
  },
  {
   "cell_type": "code",
   "execution_count": null,
   "metadata": {},
   "outputs": [],
   "source": []
  },
  {
   "cell_type": "code",
   "execution_count": null,
   "metadata": {},
   "outputs": [],
   "source": []
  },
  {
   "cell_type": "code",
   "execution_count": null,
   "metadata": {},
   "outputs": [],
   "source": []
  },
  {
   "cell_type": "code",
   "execution_count": null,
   "metadata": {},
   "outputs": [],
   "source": []
  },
  {
   "cell_type": "code",
   "execution_count": null,
   "metadata": {},
   "outputs": [],
   "source": []
  },
  {
   "cell_type": "code",
   "execution_count": null,
   "metadata": {},
   "outputs": [],
   "source": []
  },
  {
   "cell_type": "code",
   "execution_count": null,
   "metadata": {},
   "outputs": [],
   "source": []
  },
  {
   "cell_type": "code",
   "execution_count": null,
   "metadata": {},
   "outputs": [],
   "source": []
  },
  {
   "cell_type": "code",
   "execution_count": null,
   "metadata": {},
   "outputs": [],
   "source": []
  },
  {
   "cell_type": "code",
   "execution_count": null,
   "metadata": {},
   "outputs": [],
   "source": []
  },
  {
   "cell_type": "code",
   "execution_count": null,
   "metadata": {},
   "outputs": [],
   "source": []
  }
 ],
 "metadata": {
  "kernelspec": {
   "display_name": "Python 3",
   "language": "python",
   "name": "python3"
  },
  "language_info": {
   "codemirror_mode": {
    "name": "ipython",
    "version": 3
   },
   "file_extension": ".py",
   "mimetype": "text/x-python",
   "name": "python",
   "nbconvert_exporter": "python",
   "pygments_lexer": "ipython3",
   "version": "3.8.5"
  }
 },
 "nbformat": 4,
 "nbformat_minor": 4
}
