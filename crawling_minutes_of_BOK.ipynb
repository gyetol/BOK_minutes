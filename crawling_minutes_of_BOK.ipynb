{
 "cells": [
  {
   "cell_type": "markdown",
   "metadata": {},
   "source": [
    "## selenium을 이용하여 금융통화위원회 의사록 다운로드"
   ]
  },
  {
   "cell_type": "code",
   "execution_count": 1,
   "metadata": {},
   "outputs": [
    {
     "name": "stdout",
     "output_type": "stream",
     "text": [
      "Requirement already satisfied: selenium in c:\\anaconda3\\lib\\site-packages (3.141.0)\n",
      "Requirement already satisfied: urllib3 in c:\\anaconda3\\lib\\site-packages (from selenium) (1.26.2)\n"
     ]
    }
   ],
   "source": [
    "!pip install selenium"
   ]
  },
  {
   "cell_type": "code",
   "execution_count": 1,
   "metadata": {},
   "outputs": [],
   "source": [
    "from selenium import webdriver\n",
    "from selenium.webdriver.common.keys import Keys\n",
    "\n",
    "chromedriver = 'D:/util/chromedriver_win32/chromedriver.exe'\n",
    "driver =webdriver.Chrome(chromedriver)"
   ]
  },
  {
   "cell_type": "code",
   "execution_count": 2,
   "metadata": {},
   "outputs": [],
   "source": [
    "driver.get(\"https://www.bok.or.kr/portal/bbs/B0000245/list.do?menuNo=200761\")"
   ]
  },
  {
   "cell_type": "code",
   "execution_count": 28,
   "metadata": {},
   "outputs": [],
   "source": [
    "#의사록 목록에서 의사록 하나 클릭\n",
    "response = driver.find_elements_by_css_selector(\"a.secretSet\")\n",
    "response[0].click()"
   ]
  },
  {
   "cell_type": "code",
   "execution_count": 29,
   "metadata": {},
   "outputs": [
    {
     "name": "stdout",
     "output_type": "stream",
     "text": [
      "[<selenium.webdriver.remote.webelement.WebElement (session=\"76aaa7995ecdc10a89f997d836889df3\", element=\"277d034f-8c4a-4415-af6a-a633ad57233e\")>, <selenium.webdriver.remote.webelement.WebElement (session=\"76aaa7995ecdc10a89f997d836889df3\", element=\"80c22887-91ad-46ea-976b-d95d23364d94\")>, <selenium.webdriver.remote.webelement.WebElement (session=\"76aaa7995ecdc10a89f997d836889df3\", element=\"4f2bc4fc-5a6e-4e8e-bc38-f93f6af49eba\")>, <selenium.webdriver.remote.webelement.WebElement (session=\"76aaa7995ecdc10a89f997d836889df3\", element=\"d0b31f28-a46d-43d3-94bc-b3ad4b6bafa9\")>]\n"
     ]
    }
   ],
   "source": [
    "#pdf 클릭\n",
    "response = driver.find_elements_by_css_selector(\"div.addfile a\")\n",
    "print(response)\n",
    "if response[2].text[-3:]=='pdf':\n",
    "    response[2].click()\n",
    "else:\n",
    "    response[0].click()"
   ]
  },
  {
   "cell_type": "code",
   "execution_count": 30,
   "metadata": {},
   "outputs": [
    {
     "name": "stdout",
     "output_type": "stream",
     "text": [
      "[<selenium.webdriver.remote.webelement.WebElement (session=\"76aaa7995ecdc10a89f997d836889df3\", element=\"db570ce8-0fd4-4518-aa11-db4ce72ca520\")>]\n"
     ]
    }
   ],
   "source": [
    "#이전글 클릭\n",
    "response = driver.find_elements_by_css_selector(\"div.bdViewNav a\")\n",
    "print(response)\n",
    "response[0].click()"
   ]
  },
  {
   "cell_type": "code",
   "execution_count": 31,
   "metadata": {},
   "outputs": [],
   "source": [
    "#위의 pdf 클릭과 이전글 클릭을 반복\n",
    "for i in range(1,288):\n",
    "    response = driver.find_elements_by_css_selector(\"div.addfile a\")\n",
    "    if response[2].text[-3:]=='pdf':\n",
    "        response[2].click()\n",
    "    else:\n",
    "        response[0].click()\n",
    "    response = driver.find_elements_by_css_selector(\"div.bdViewNav a\")\n",
    "    response[0].click()"
   ]
  }
 ],
 "metadata": {
  "kernelspec": {
   "display_name": "study(python3.6)",
   "language": "python",
   "name": "study"
  },
  "language_info": {
   "codemirror_mode": {
    "name": "ipython",
    "version": 3
   },
   "file_extension": ".py",
   "mimetype": "text/x-python",
   "name": "python",
   "nbconvert_exporter": "python",
   "pygments_lexer": "ipython3",
   "version": "3.6.12"
  }
 },
 "nbformat": 4,
 "nbformat_minor": 4
}
